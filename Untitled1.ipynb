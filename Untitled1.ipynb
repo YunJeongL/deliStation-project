{
 "cells": [
  {
   "cell_type": "code",
   "execution_count": 2,
   "metadata": {},
   "outputs": [],
   "source": [
    "from urllib.request import urlopen\n",
    "from bs4 import BeautifulSoup\n",
    "from operator import itemgetter\n",
    "from selenium import webdriver as wd\n",
    "import sys\n",
    "import glob\n",
    "import os\n",
    "import pandas as pd\n",
    "import pymysql as my\n",
    "import csv\n",
    "\n",
    "\n",
    "# 망고플레이트 메인 페이지 접속\n",
    "MAIN_URL='http://www.mangoplate.com/'\n",
    "driver = wd.Chrome('/Users/kimchaeyeon/py_project/py_test/chromedriver.exe')\n",
    "driver.get(MAIN_URL)\n",
    "driver.implicitly_wait(0.5)\n",
    "\n",
    "\n",
    "# 가게 페이지 접속후 평점,호불호 획득\n",
    "# DB에서 가게별 호선, 역 정보 획득\n",
    "# 획득한 정보를 subway_market 테이블에 저장\n",
    "# data = pd.read_csv('marketName2.csv')\n",
    "# for name in data:\n",
    "#     data2 = pd.read_csv('marketName.csv')\n",
    "#     if name in data2:\n",
    "#         data2.index[name]\n",
    "        \n",
    "#     driver.find_element_by_id('main-search').send_keys(name)\n",
    "#     driver.find_element_by_class_name('btn-search').click()\n",
    "#     driver.find_element_by_class_name('only-desktop_not').click()\n",
    "#     html = driver.page_source \n",
    "#     soup = BeautifulSoup(html, 'html.parser')\n",
    "#     # 평점 구하기\n",
    "#     ratePoint = soup.find('strong',{'class':'rate-point'})\n",
    "#     rate=print(ratePoint.span.string)\n",
    "#     # 호불호\n",
    "#     GB = soup.find('section',{'class':'module review-container'})\n",
    "#     GB2 = GB.find_all('button',{'class':'review_fliter_item_btn'})\n",
    "#     tasteGood = GB2[1]['data-review_count']\n",
    "#     tasteSoso = GB2[2]['data-review_count']\n",
    "#     tasteBad = GB2[3]['data-review_count']\n",
    "#     taste = (int(tasteSoso)+int(tasteBad))/int(tasteGood)\n",
    "# #     # 역 이름\n",
    "# #     subway_name = searchName(name)\n",
    "# #     # 호선 이름\n",
    "# #     line = searchLine(name)\n",
    "# #     # 정보를 subway_market 테이블에 저장\n",
    "# #     info(name,subway_name,line,rate,taste)\n",
    "#     # 다시 망플 페이지로 이동\n",
    "#     driver.find_element_by_class_name('btn-mp').click()\n",
    "# print('Output')\n"
   ]
  },
  {
   "cell_type": "code",
   "execution_count": 5,
   "metadata": {},
   "outputs": [
    {
     "ename": "ValueError",
     "evalue": "invalid literal for int() with base 10: '샘밭막국수 (서울본점)'",
     "output_type": "error",
     "traceback": [
      "\u001b[1;31m---------------------------------------------------------------------------\u001b[0m",
      "\u001b[1;31mValueError\u001b[0m                                Traceback (most recent call last)",
      "\u001b[1;32m<ipython-input-5-bba96d090254>\u001b[0m in \u001b[0;36m<module>\u001b[1;34m()\u001b[0m\n\u001b[0;32m      6\u001b[0m     \u001b[0mdata2\u001b[0m \u001b[1;33m=\u001b[0m \u001b[0mpd\u001b[0m\u001b[1;33m.\u001b[0m\u001b[0mread_csv\u001b[0m\u001b[1;33m(\u001b[0m\u001b[1;34m'marketName.csv'\u001b[0m\u001b[1;33m)\u001b[0m\u001b[1;33m\u001b[0m\u001b[0m\n\u001b[0;32m      7\u001b[0m     \u001b[1;32mif\u001b[0m \u001b[0mname\u001b[0m \u001b[1;32min\u001b[0m \u001b[0mdata2\u001b[0m\u001b[1;33m:\u001b[0m\u001b[1;33m\u001b[0m\u001b[0m\n\u001b[1;32m----> 8\u001b[1;33m         \u001b[0mdata2\u001b[0m\u001b[1;33m.\u001b[0m\u001b[0mindex\u001b[0m\u001b[1;33m[\u001b[0m\u001b[0mname\u001b[0m\u001b[1;33m]\u001b[0m\u001b[1;33m\u001b[0m\u001b[0m\n\u001b[0m",
      "\u001b[1;32mc:\\users\\kimchaeyeon\\appdata\\local\\programs\\python\\python36-32\\lib\\site-packages\\pandas\\core\\indexes\\range.py\u001b[0m in \u001b[0;36m__getitem__\u001b[1;34m(self, key)\u001b[0m\n\u001b[0;32m    496\u001b[0m \u001b[1;33m\u001b[0m\u001b[0m\n\u001b[0;32m    497\u001b[0m         \u001b[1;32mif\u001b[0m \u001b[0mis_scalar\u001b[0m\u001b[1;33m(\u001b[0m\u001b[0mkey\u001b[0m\u001b[1;33m)\u001b[0m\u001b[1;33m:\u001b[0m\u001b[1;33m\u001b[0m\u001b[0m\n\u001b[1;32m--> 498\u001b[1;33m             \u001b[0mn\u001b[0m \u001b[1;33m=\u001b[0m \u001b[0mint\u001b[0m\u001b[1;33m(\u001b[0m\u001b[0mkey\u001b[0m\u001b[1;33m)\u001b[0m\u001b[1;33m\u001b[0m\u001b[0m\n\u001b[0m\u001b[0;32m    499\u001b[0m             \u001b[1;32mif\u001b[0m \u001b[0mn\u001b[0m \u001b[1;33m!=\u001b[0m \u001b[0mkey\u001b[0m\u001b[1;33m:\u001b[0m\u001b[1;33m\u001b[0m\u001b[0m\n\u001b[0;32m    500\u001b[0m                 \u001b[1;32mreturn\u001b[0m \u001b[0msuper_getitem\u001b[0m\u001b[1;33m(\u001b[0m\u001b[0mkey\u001b[0m\u001b[1;33m)\u001b[0m\u001b[1;33m\u001b[0m\u001b[0m\n",
      "\u001b[1;31mValueError\u001b[0m: invalid literal for int() with base 10: '샘밭막국수 (서울본점)'"
     ]
    }
   ],
   "source": [
    "# 가게 페이지 접속후 평점,호불호 획득\n",
    "# DB에서 가게별 호선, 역 정보 획득\n",
    "# 획득한 정보를 subway_market 테이블에 저장\n",
    "data = pd.read_csv('marketName2.csv')\n",
    "for name in data:\n",
    "    data2 = pd.read_csv('marketName.csv')\n",
    "    if name in data2:\n",
    "        data2.index[name]"
   ]
  },
  {
   "cell_type": "code",
   "execution_count": null,
   "metadata": {},
   "outputs": [],
   "source": []
  }
 ],
 "metadata": {
  "kernelspec": {
   "display_name": "Python 3",
   "language": "python",
   "name": "python3"
  },
  "language_info": {
   "codemirror_mode": {
    "name": "ipython",
    "version": 3
   },
   "file_extension": ".py",
   "mimetype": "text/x-python",
   "name": "python",
   "nbconvert_exporter": "python",
   "pygments_lexer": "ipython3",
   "version": "3.6.0"
  }
 },
 "nbformat": 4,
 "nbformat_minor": 2
}
